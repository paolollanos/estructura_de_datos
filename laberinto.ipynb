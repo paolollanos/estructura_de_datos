{
  "nbformat": 4,
  "nbformat_minor": 0,
  "metadata": {
    "colab": {
      "name": "laberinto.ipynb",
      "provenance": [],
      "collapsed_sections": []
    },
    "kernelspec": {
      "name": "python3",
      "display_name": "Python 3"
    },
    "language_info": {
      "name": "python"
    }
  },
  "cells": [
    {
      "cell_type": "code",
      "metadata": {
        "id": "zQ4Uk66E4t0Y"
      },
      "source": [
        "class StackADT:\n",
        "  def __init__(self):\n",
        "    self.data = list()\n",
        "    self.tope = 0\n",
        "\n",
        "  def is_empty(self):\n",
        "    return self.tope == 0  \n",
        "\n",
        "  def length(self):\n",
        "    return self.tope \n",
        "\n",
        "  def pop(self):\n",
        "    if not self.is_empty():\n",
        "      self.tope -= 1  \n",
        "      return self.data.pop()\n",
        "\n",
        "  def peek(self):\n",
        "    return self.data[self.tope -1]\n",
        "\n",
        "  def push(self, value):\n",
        "    self.data.append(value)\n",
        "    self.tope += 1    \n",
        "\n",
        "  def to_string(self):\n",
        "    print(\"ESTADO DE LA PILA ES: \")\n",
        "    for elem in self.data[ : :-1]:\n",
        "      print(f\"|{elem}|\")"
      ],
      "execution_count": null,
      "outputs": []
    },
    {
      "cell_type": "code",
      "metadata": {
        "id": "26XCCvw662cK"
      },
      "source": [
        "class Array2D():\n",
        "  def __init__(self, ren, col):\n",
        "    self.__columnas = col\n",
        "    self.__renglones = ren\n",
        "    self.__data = [[ 0 for i in range(col)]for i in range (ren)]\n",
        "\n",
        "  def to_string(self):\n",
        "    for i in range(self.__renglones):\n",
        "      print(self.__data[i])\n",
        "\n",
        "  def clear(self, dato):\n",
        "    for i in range (self.__renglones):\n",
        "      for x in range(self.__columnas):\n",
        "        self.__data[i][x] = dato\n",
        "\n",
        "  def get_row_size(self):\n",
        "    return self.__renglones\n",
        "\n",
        "  def get_col_size(self):\n",
        "    return self.__columnas\n",
        "\n",
        "  def set_item(self,ren,col,dato):\n",
        "    self.__data[ren][col] = dato\n",
        "\n",
        "  def get_item(self,ren,col):\n",
        "    return self.__data[ren][col]"
      ],
      "execution_count": null,
      "outputs": []
    },
    {
      "cell_type": "code",
      "metadata": {
        "id": "JJylemUu67LC"
      },
      "source": [
        "class LaberintoADT:\n",
        "  def __init__(self,archivo):\n",
        "    self.laberinto = None #Array2D\n",
        "    self.copia = None\n",
        "    self.camino = StackADT()\n",
        "    self.inicializa(archivo)\n",
        "    self.guardarCopia()\n",
        "    self.laberinto.to_string()\n",
        "    print(\"Stack\")\n",
        "    self.camino.to_string()\n",
        "\n",
        "    \"\"\"\n",
        "    P ---> Pared\n",
        "    C ---> Corredor\n",
        "    E ---> Entrada\n",
        "    S ---> Salida\n",
        "    X ---> Ya visitado\n",
        "\n",
        "    \"\"\"   \n",
        "\n",
        "  def inicializa(self,archivo):\n",
        "    entrada = open(archivo, 'rt')\n",
        "    self.laberinto = Array2D(int(entrada.readline().strip()), int(entrada.readline().strip()))\n",
        "    self.laberinto.clear(\"P\")\n",
        "    lineas = entrada.readlines()\n",
        "\n",
        "    for r in range(len(lineas)):\n",
        "      lineaBis = lineas[r].strip().split(',')\n",
        "      for c in range(len(lineaBis)):\n",
        "        self.laberinto.set_item(r,c,lineaBis[c])\n",
        "\n",
        "    #buscar la entrada\n",
        "    for r in range(self.laberinto.get_row_size()):\n",
        "      for c in range(self.laberinto.get_col_size()):\n",
        "        if self.laberinto.get_item(r,c) == 'E':\n",
        "          self.camino.push((r,c)) \n",
        "\n",
        "  def guardarcopia(self):\n",
        "    self.copia = self.laberinto\n",
        "  def get_copia(self):\n",
        "    return self.copia \n",
        "\n",
        "\"\"\"\n",
        "buscar camino\n",
        "yaVisitado(x,y)-true o false, los ya visitado los  vamos a meter a una lista\n",
        "mostrarCamino-imprimir la pila \n",
        "guardarCopia-crear otra variable en el constructor \n",
        "esSalida(x,y)-true o false\n",
        "encontrarLimites (x,y) - true o false \n",
        "esCorredor(x,y)-true, false\n",
        "\"\"\""
      ],
      "execution_count": null,
      "outputs": []
    },
    {
      "cell_type": "code",
      "metadata": {
        "id": "nt7zucYg7CxJ"
      },
      "source": [
        "juego = LaberintoADT('entrada2.txt')"
      ],
      "execution_count": null,
      "outputs": []
    }
  ]
}