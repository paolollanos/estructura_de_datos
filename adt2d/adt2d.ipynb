{
 "cells": [
  {
   "cell_type": "code",
   "execution_count": 2,
   "source": [
    "##adt de dos dimenciones \n",
    "class array2d:\n",
    "  #constructor\n",
    "    def __init__(self, columna, renglon):\n",
    "        \n",
    "        self.__columna__ = columna\n",
    "        self.__renglon__ = renglon\n",
    "        ## una \"lista\" 2d debe verse asi [[1,2,3],[3,2,1]] las dos listas dentro son los renglones  \n",
    "        self.__datay__ = [[] for x in range(self.__renglon__) ]\n",
    "        self.__datax__= (0 for x in range(self.__datay__))\n",
    "\n",
    "    def clear (self, dato ):\n",
    "        self.__datay__ = [dato for x in range(self.__renglon__)]\n",
    "    \n",
    "    def\n",
    "\n",
    "\n",
    "\n",
    "    \"\"\""
   ],
   "outputs": [],
   "metadata": {}
  }
 ],
 "metadata": {
  "orig_nbformat": 4,
  "language_info": {
   "name": "python",
   "version": "3.9.7",
   "mimetype": "text/x-python",
   "codemirror_mode": {
    "name": "ipython",
    "version": 3
   },
   "pygments_lexer": "ipython3",
   "nbconvert_exporter": "python",
   "file_extension": ".py"
  },
  "kernelspec": {
   "name": "python3",
   "display_name": "Python 3.9.7 64-bit"
  },
  "interpreter": {
   "hash": "767d51c1340bd893661ea55ea3124f6de3c7a262a8b4abca0554b478b1e2ff90"
  }
 },
 "nbformat": 4,
 "nbformat_minor": 2
}