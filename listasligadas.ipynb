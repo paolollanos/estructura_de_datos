{
  "nbformat": 4,
  "nbformat_minor": 0,
  "metadata": {
    "colab": {
      "name": "listasligadas.ipynb",
      "provenance": [],
      "authorship_tag": "ABX9TyM9Bp93DT7NjQfTfmgbh9wk",
      "include_colab_link": true
    },
    "kernelspec": {
      "name": "python3",
      "display_name": "Python 3"
    },
    "language_info": {
      "name": "python"
    }
  },
  "cells": [
    {
      "cell_type": "markdown",
      "metadata": {
        "id": "view-in-github",
        "colab_type": "text"
      },
      "source": [
        "<a href=\"https://colab.research.google.com/github/paolollanos/estructura_de_datos/blob/main/listasligadas.ipynb\" target=\"_parent\"><img src=\"https://colab.research.google.com/assets/colab-badge.svg\" alt=\"Open In Colab\"/></a>"
      ]
    },
    {
      "cell_type": "code",
      "metadata": {
        "id": "TsunepqAY5Nb"
      },
      "source": [
        "class Nodo:\n",
        "    def __init__(self, value, siguiente=None):\n",
        "        self.data = value\n",
        "        self.next = siguiente\n"
      ],
      "execution_count": 1,
      "outputs": []
    },
    {
      "cell_type": "markdown",
      "metadata": {
        "id": "Af02A96wb7dv"
      },
      "source": [
        ""
      ]
    },
    {
      "cell_type": "code",
      "metadata": {
        "colab": {
          "base_uri": "https://localhost:8080/"
        },
        "id": "VrlporBKY-oZ",
        "outputId": "ade2c3fa-0915-452c-8c55-77e5c72172dc"
      },
      "source": [
        "head = Nodo(30)\n",
        "print(head.data)\n",
        "print(head.next)"
      ],
      "execution_count": 2,
      "outputs": [
        {
          "output_type": "stream",
          "name": "stdout",
          "text": [
            "30\n",
            "None\n"
          ]
        }
      ]
    },
    {
      "cell_type": "code",
      "metadata": {
        "colab": {
          "base_uri": "https://localhost:8080/"
        },
        "id": "tRW_Tjx4ZCaZ",
        "outputId": "c3207eb5-392e-4de5-fb6a-4d18e748d9bd"
      },
      "source": [
        "head2 = Nodo(20)\n",
        "head2.next = Nodo(15)\n",
        "\n",
        "print(head2.next.data)\n",
        "print(head2.next.next)\n",
        "\n",
        "print(head2.data)\n",
        "print(head2.next)"
      ],
      "execution_count": 3,
      "outputs": [
        {
          "output_type": "stream",
          "name": "stdout",
          "text": [
            "15\n",
            "None\n",
            "20\n",
            "<__main__.Nodo object at 0x7f883b9f5410>\n"
          ]
        }
      ]
    },
    {
      "cell_type": "code",
      "metadata": {
        "colab": {
          "base_uri": "https://localhost:8080/"
        },
        "id": "JDOdrxhSdfT_",
        "outputId": "c90a8060-8d60-4b59-f822-786808aeca27"
      },
      "source": [
        "\n",
        "\n",
        "puntoentrada = Nodo(20, Nodo(15))\n",
        "\n",
        "print(puntoentrada.data)\n",
        "print(puntoentrada.next.data)"
      ],
      "execution_count": 4,
      "outputs": [
        {
          "output_type": "stream",
          "name": "stdout",
          "text": [
            "20\n",
            "15\n"
          ]
        }
      ]
    }
  ]
}